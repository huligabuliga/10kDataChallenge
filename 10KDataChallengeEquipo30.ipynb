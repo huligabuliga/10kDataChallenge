{
  "nbformat": 4,
  "nbformat_minor": 0,
  "metadata": {
    "colab": {
      "provenance": [],
      "collapsed_sections": [],
      "include_colab_link": true
    },
    "kernelspec": {
      "name": "python3",
      "display_name": "Python 3"
    },
    "language_info": {
      "name": "python"
    }
  },
  "cells": [
    {
      "cell_type": "markdown",
      "metadata": {
        "id": "view-in-github",
        "colab_type": "text"
      },
      "source": [
        "<a href=\"https://colab.research.google.com/github/huligabuliga/10kDataChallenge/blob/main/10KDataChallengeEquipo30.ipynb\" target=\"_parent\"><img src=\"https://colab.research.google.com/assets/colab-badge.svg\" alt=\"Open In Colab\"/></a>"
      ]
    },
    {
      "cell_type": "markdown",
      "source": [
        "Bases de datos disponibles para el desarrollo del reto\n",
        "\n",
        "● Censo poblacional: \n",
        "https://gaia.inegi.org.mx/scince2020/\n",
        "\n",
        "● Directorio Estadístico Nacional de Unidades Económicas: \n",
        "https://www.inegi.org.mx/app/mapa/denue/default.aspx\n",
        "\n",
        "● Índice de Clasificaciones de Agua Superficial: \n",
        "https://www.inegi.org.mx/investigacion/icase/#Descargas"
      ],
      "metadata": {
        "id": "o05w7mOyS2nD"
      }
    },
    {
      "cell_type": "markdown",
      "source": [
        "link to github: [here](https://github.com/huligabuliga/10kDataChallenge)"
      ],
      "metadata": {
        "id": "cigNhr2IRDmY"
      }
    },
    {
      "cell_type": "markdown",
      "source": [
        "## Instalación de Requerimientos"
      ],
      "metadata": {
        "id": "tKw74wLuRsfZ"
      }
    },
    {
      "cell_type": "code",
      "source": [
        "!apt-get install openjdk-11-jdk-headless -qq > /dev/null\n",
        "!wget -q https://archive.apache.org/dist/spark/spark-3.2.2/spark-3.2.2-bin-hadoop3.2.tgz\n",
        "!tar xf spark-3.2.2-bin-hadoop3.2.tgz\n",
        "!pip -q install findspark"
      ],
      "metadata": {
        "id": "jJqTg5xBRLR4"
      },
      "execution_count": 2,
      "outputs": []
    },
    {
      "cell_type": "code",
      "source": [
        "! java -version"
      ],
      "metadata": {
        "colab": {
          "base_uri": "https://localhost:8080/"
        },
        "id": "2Oe1zBNhR27g",
        "outputId": "6cd56139-2b54-4220-a6ef-7f413db2ff4c"
      },
      "execution_count": 3,
      "outputs": [
        {
          "output_type": "stream",
          "name": "stdout",
          "text": [
            "openjdk version \"11.0.16\" 2022-07-19\n",
            "OpenJDK Runtime Environment (build 11.0.16+8-post-Ubuntu-0ubuntu118.04)\n",
            "OpenJDK 64-Bit Server VM (build 11.0.16+8-post-Ubuntu-0ubuntu118.04, mixed mode, sharing)\n"
          ]
        }
      ]
    },
    {
      "cell_type": "code",
      "source": [
        "import os\n",
        "os.environ[\"JAVA_HOME\"] = \"/usr/lib/jvm/java-11-openjdk-amd64\"\n",
        "os.environ[\"SPARK_HOME\"] = \"/content/spark-3.2.2-bin-hadoop3.2\""
      ],
      "metadata": {
        "id": "zrV_Vxn0R59d"
      },
      "execution_count": 4,
      "outputs": []
    },
    {
      "cell_type": "code",
      "source": [
        "!pip -q install pyspark"
      ],
      "metadata": {
        "colab": {
          "base_uri": "https://localhost:8080/"
        },
        "id": "nz8kxa4ZSJVi",
        "outputId": "902982fa-0421-4e65-9abf-336cbb1e3991"
      },
      "execution_count": 5,
      "outputs": [
        {
          "output_type": "stream",
          "name": "stdout",
          "text": [
            "\u001b[K     |████████████████████████████████| 281.4 MB 44 kB/s \n",
            "\u001b[K     |████████████████████████████████| 199 kB 60.2 MB/s \n",
            "\u001b[?25h  Building wheel for pyspark (setup.py) ... \u001b[?25l\u001b[?25hdone\n"
          ]
        }
      ]
    },
    {
      "cell_type": "code",
      "source": [
        "!pip -q install geopandas attrs shapely rtree apache-sedona[spark]"
      ],
      "metadata": {
        "id": "rxANQg6NSQLk",
        "colab": {
          "base_uri": "https://localhost:8080/"
        },
        "outputId": "66590341-0424-4f15-ebaa-95e1cb8299b7"
      },
      "execution_count": 6,
      "outputs": [
        {
          "output_type": "stream",
          "name": "stdout",
          "text": [
            "\u001b[K     |████████████████████████████████| 1.0 MB 8.3 MB/s \n",
            "\u001b[K     |████████████████████████████████| 1.0 MB 56.5 MB/s \n",
            "\u001b[K     |████████████████████████████████| 67 kB 4.5 MB/s \n",
            "\u001b[K     |████████████████████████████████| 16.7 MB 46.5 MB/s \n",
            "\u001b[K     |████████████████████████████████| 6.3 MB 13.8 MB/s \n",
            "\u001b[?25h"
          ]
        }
      ]
    },
    {
      "cell_type": "markdown",
      "source": [
        "## Descarga de Bases de Datos Listas para el Análisis\n"
      ],
      "metadata": {
        "id": "WJkVJfOuSXVS"
      }
    },
    {
      "cell_type": "code",
      "source": [
        "#base de datos\n",
        "!gdown 1erwHX0ZtIPiTYP5rYPZzaj2TgpWG9TdT\n",
        "!gdown 1g5cFmQ81ngZNVjcuBeOJOCrubeDoBazS\n",
        "\n"
      ],
      "metadata": {
        "id": "bgsAk5ISSZJl",
        "colab": {
          "base_uri": "https://localhost:8080/"
        },
        "outputId": "0c5b24da-2e9a-48d9-a9fc-ca914bc3dd88"
      },
      "execution_count": 7,
      "outputs": [
        {
          "output_type": "stream",
          "name": "stdout",
          "text": [
            "Downloading...\n",
            "From: https://drive.google.com/uc?id=1erwHX0ZtIPiTYP5rYPZzaj2TgpWG9TdT\n",
            "To: /content/SCINCE_Parquets.zip\n",
            "100% 1.14G/1.14G [00:08<00:00, 133MB/s]\n",
            "Downloading...\n",
            "From: https://drive.google.com/uc?id=1g5cFmQ81ngZNVjcuBeOJOCrubeDoBazS\n",
            "To: /content/DENUE_Parquets.zip\n",
            "100% 486M/486M [00:04<00:00, 111MB/s]\n"
          ]
        }
      ]
    },
    {
      "cell_type": "code",
      "source": [],
      "metadata": {
        "id": "hwy_XP8NT1JX"
      },
      "execution_count": 7,
      "outputs": []
    },
    {
      "cell_type": "markdown",
      "source": [
        "## Descompactar los Datos"
      ],
      "metadata": {
        "id": "qbXXCzcWSm6R"
      }
    },
    {
      "cell_type": "code",
      "source": [
        "!ls /content/*.zip"
      ],
      "metadata": {
        "id": "y6WY5SOZSpi_",
        "colab": {
          "base_uri": "https://localhost:8080/"
        },
        "outputId": "8338f85e-4f40-4b51-e6e8-ef7563517265"
      },
      "execution_count": 8,
      "outputs": [
        {
          "output_type": "stream",
          "name": "stdout",
          "text": [
            "/content/DENUE_Parquets.zip  /content/SCINCE_Parquets.zip\n"
          ]
        }
      ]
    },
    {
      "cell_type": "code",
      "source": [
        "!unzip /content/DENUE_Parquets.zip -d /content/DENUE_Parquets/ &> /dev/null"
      ],
      "metadata": {
        "id": "j9sjCzFWItW_"
      },
      "execution_count": 9,
      "outputs": []
    },
    {
      "cell_type": "code",
      "source": [
        "!unzip /content/SCINCE_Parquets.zip -d /content/SCINCE_Parquets/ &> /dev/null"
      ],
      "metadata": {
        "id": "9NeT-lLsIzSL"
      },
      "execution_count": 10,
      "outputs": []
    },
    {
      "cell_type": "code",
      "source": [
        "!ls /content/DENUE_Parquets"
      ],
      "metadata": {
        "colab": {
          "base_uri": "https://localhost:8080/"
        },
        "id": "GkZboLMlI0u0",
        "outputId": "99b15a2c-a7bb-41e9-9f96-e4212021a0e2"
      },
      "execution_count": 11,
      "outputs": [
        {
          "output_type": "stream",
          "name": "stdout",
          "text": [
            "01.parquet  07.parquet\t13.parquet    18.parquet  24.parquet  30.parquet\n",
            "02.parquet  08.parquet\t14.parquet    19.parquet  25.parquet  31.parquet\n",
            "03.parquet  09.parquet\t15_1.parquet  20.parquet  26.parquet  32.parquet\n",
            "04.parquet  10.parquet\t15_2.parquet  21.parquet  27.parquet\n",
            "05.parquet  11.parquet\t16.parquet    22.parquet  28.parquet\n",
            "06.parquet  12.parquet\t17.parquet    23.parquet  29.parquet\n"
          ]
        }
      ]
    },
    {
      "cell_type": "code",
      "source": [],
      "metadata": {
        "id": "CCM_3-KgI2h6"
      },
      "execution_count": 10,
      "outputs": []
    },
    {
      "cell_type": "markdown",
      "source": [
        "Apache spark y sedona\n"
      ],
      "metadata": {
        "id": "S67g5AxSI3nz"
      }
    },
    {
      "cell_type": "code",
      "source": [
        "import findspark\n",
        "findspark.init()\n",
        "import shapely\n",
        "import pandas as pd \n",
        "import geopandas as gpd\n",
        "from pyspark.sql import SparkSession\n",
        "from pyspark import SparkContext\n",
        "from pyspark import SparkConf\n",
        "from sedona.register import SedonaRegistrator\n",
        "from sedona.utils import SedonaKryoRegistrator, KryoSerializer\n",
        "spark = SparkSession. \\\n",
        "builder. \\\n",
        "appName('GeoBigData'). \\\n",
        "config(\"spark.serializer\", KryoSerializer.getName). \\\n",
        "config(\"spark.executor.memory\", \"5g\"). \\\n",
        "config(\"spark.driver.memory\", \"10g\"). \\\n",
        "config('spark.driver.maxResultSize', '5g'). \\\n",
        "config(\"spark.kryo.registrator\", SedonaKryoRegistrator.getName). \\\n",
        "config('spark.jars.packages',\n",
        "           'org.apache.sedona:sedona-python-adapter-3.0_2.12:1.2.0-incubating,'\n",
        "           'org.datasyslab:geotools-wrapper:1.1.0-25.2'). \\\n",
        "getOrCreate()\n",
        "SedonaRegistrator.registerAll(spark)"
      ],
      "metadata": {
        "colab": {
          "base_uri": "https://localhost:8080/"
        },
        "id": "y9H5Qv7XI58b",
        "outputId": "2d2818bd-4ed1-41c2-9bbd-4725459ce39b"
      },
      "execution_count": 48,
      "outputs": [
        {
          "output_type": "execute_result",
          "data": {
            "text/plain": [
              "True"
            ]
          },
          "metadata": {},
          "execution_count": 48
        }
      ]
    },
    {
      "cell_type": "markdown",
      "source": [
        "data to be used: <br> \n",
        "ECO1_R: \"Porcentaje de\n",
        "población de\n",
        "12 años y más\n",
        "económicamente\n",
        "activa\"\n",
        "<br>\n",
        "VIV18_R: \"Porcentaje\n",
        "de viviendas\n",
        "particulares\n",
        "habitadas que\n",
        "disponen de agua\n",
        "entubada en el\n",
        "ámbito de la\n",
        "vivienda\" \n",
        "<br>\n",
        "VIV24_R: \"Porcentaje\n",
        "de viviendas\n",
        "particulares\n",
        "habitadas que\n",
        "no disponen de\n",
        "drenaje\"\n",
        "<br>\n",
        "POB1: \"Población total\"\n",
        "\n"
      ],
      "metadata": {
        "id": "Jllzes5xyoOt"
      }
    },
    {
      "cell_type": "code",
      "source": [
        "BD_MANZANAS = spark.read.parquet(f\"/content/SCINCE_Parquets/19_NL.parquet\")\n",
        "BD_MANZANAS_EEVVV = BD_MANZANAS.select('CVEGEO', 'ECO1_R', 'VIV17_R', 'VIV18_R', 'geometry')\n",
        "BD_MANZANAS_EEVVV.cache()\n",
        "BD_MANZANAS_EEVVV.printSchema()\n",
        "BD_MANZANAS_EEVVV.show()"
      ],
      "metadata": {
        "colab": {
          "base_uri": "https://localhost:8080/"
        },
        "id": "NXaSBu4qI8Es",
        "outputId": "e14e5d9d-8242-44ce-dad9-01056bf4523b"
      },
      "execution_count": 81,
      "outputs": [
        {
          "output_type": "stream",
          "name": "stdout",
          "text": [
            "root\n",
            " |-- CVEGEO: string (nullable = true)\n",
            " |-- ECO1_R: double (nullable = true)\n",
            " |-- VIV17_R: double (nullable = true)\n",
            " |-- VIV18_R: double (nullable = true)\n",
            " |-- geometry: geometry (nullable = true)\n",
            "\n",
            "+----------------+------+-------+-------+--------------------+\n",
            "|          CVEGEO|ECO1_R|VIV17_R|VIV18_R|            geometry|\n",
            "+----------------+------+-------+-------+--------------------+\n",
            "|1900100010021001|  53.7|  100.0|    0.0|POLYGON ((2659352...|\n",
            "|1900100010021007|  54.5|  100.0|    0.0|POLYGON ((2659829...|\n",
            "|1900100010021020|  -6.0|   -6.0|   -6.0|POLYGON ((2659830...|\n",
            "|1900100010021037|  -8.0|   -8.0|   -8.0|POLYGON ((2659506...|\n",
            "|1900100010021047|  66.7|  100.0|    0.0|POLYGON ((2659550...|\n",
            "|1900100010036010|  46.2|  100.0|    0.0|POLYGON ((2660761...|\n",
            "|1900100010036012|  43.8|  100.0|    0.0|POLYGON ((2660950...|\n",
            "|1900200010207030|  50.0|  100.0|    0.0|POLYGON ((2744874...|\n",
            "|1900200010211013|  30.0|  100.0|    0.0|POLYGON ((2744393...|\n",
            "|1900200010211018|  -6.0|   -6.0|   -6.0|POLYGON ((2744881...|\n",
            "|1900200010226018|  -8.0|   -8.0|   -8.0|POLYGON ((2745917...|\n",
            "|1900200010230010|  83.3|  100.0|    0.0|POLYGON ((2744380...|\n",
            "|1900200010230012|  -6.0|  100.0|    0.0|POLYGON ((2744575...|\n",
            "|1900200010230026|  -6.0|   -6.0|   -6.0|POLYGON ((2744751...|\n",
            "|1900200010245017|  87.5|  100.0|    0.0|POLYGON ((2745022...|\n",
            "|190020001025A010|  62.5|  100.0|    0.0|POLYGON ((2744927...|\n",
            "|190020001025A020|  -6.0|   -6.0|   -6.0|POLYGON ((2744638...|\n",
            "|190020001025A023|  42.9|  100.0|    0.0|POLYGON ((2744311...|\n",
            "|190020001025A025|  54.5|  100.0|    0.0|POLYGON ((2744521...|\n",
            "|1900200010264010|  -8.0|   -8.0|   -8.0|POLYGON ((2744230...|\n",
            "+----------------+------+-------+-------+--------------------+\n",
            "only showing top 20 rows\n",
            "\n"
          ]
        }
      ]
    },
    {
      "cell_type": "code",
      "source": [
        "BD_MANZANAS = spark.read.parquet(f\"/content/SCINCE_Parquets/19_NL.parquet\")\n",
        "BD_MANZANAS_EEVVV = BD_MANZANAS.select('CVEGEO', 'ECO1_R', 'VIV17_R', 'VIV18_R','VIV23_R','VIV24_R', 'geometry')\n",
        "BD_MANZANAS_EEVVV.cache()\n",
        "BD_MANZANAS_EEVVV.printSchema()\n",
        "BD_MANZANAS_EEVVV.show()\n",
        "\n"
      ],
      "metadata": {
        "colab": {
          "base_uri": "https://localhost:8080/"
        },
        "id": "9sL56gQ9P3eL",
        "outputId": "dcb1ec96-041a-4690-9565-7142f49069e4"
      },
      "execution_count": 94,
      "outputs": [
        {
          "output_type": "stream",
          "name": "stdout",
          "text": [
            "root\n",
            " |-- CVEGEO: string (nullable = true)\n",
            " |-- ECO1_R: double (nullable = true)\n",
            " |-- VIV17_R: double (nullable = true)\n",
            " |-- VIV18_R: double (nullable = true)\n",
            " |-- VIV23_R: double (nullable = true)\n",
            " |-- VIV24_R: double (nullable = true)\n",
            " |-- geometry: geometry (nullable = true)\n",
            "\n",
            "+----------------+------+-------+-------+-------+-------+--------------------+\n",
            "|          CVEGEO|ECO1_R|VIV17_R|VIV18_R|VIV23_R|VIV24_R|            geometry|\n",
            "+----------------+------+-------+-------+-------+-------+--------------------+\n",
            "|1900100010021001|  53.7|  100.0|    0.0|  100.0|    0.0|POLYGON ((2659352...|\n",
            "|1900100010021007|  54.5|  100.0|    0.0|  100.0|    0.0|POLYGON ((2659829...|\n",
            "|1900100010021020|  -6.0|   -6.0|   -6.0|   -6.0|   -6.0|POLYGON ((2659830...|\n",
            "|1900100010021037|  -8.0|   -8.0|   -8.0|   -8.0|   -8.0|POLYGON ((2659506...|\n",
            "|1900100010021047|  66.7|  100.0|    0.0|  100.0|    0.0|POLYGON ((2659550...|\n",
            "|1900100010036010|  46.2|  100.0|    0.0|  100.0|    0.0|POLYGON ((2660761...|\n",
            "|1900100010036012|  43.8|  100.0|    0.0|  100.0|    0.0|POLYGON ((2660950...|\n",
            "|1900200010207030|  50.0|  100.0|    0.0|  100.0|    0.0|POLYGON ((2744874...|\n",
            "|1900200010211013|  30.0|  100.0|    0.0|  100.0|    0.0|POLYGON ((2744393...|\n",
            "|1900200010211018|  -6.0|   -6.0|   -6.0|   -6.0|   -6.0|POLYGON ((2744881...|\n",
            "|1900200010226018|  -8.0|   -8.0|   -8.0|   -8.0|   -8.0|POLYGON ((2745917...|\n",
            "|1900200010230010|  83.3|  100.0|    0.0|  100.0|    0.0|POLYGON ((2744380...|\n",
            "|1900200010230012|  -6.0|  100.0|    0.0|  100.0|    0.0|POLYGON ((2744575...|\n",
            "|1900200010230026|  -6.0|   -6.0|   -6.0|   -6.0|   -6.0|POLYGON ((2744751...|\n",
            "|1900200010245017|  87.5|  100.0|    0.0|  100.0|    0.0|POLYGON ((2745022...|\n",
            "|190020001025A010|  62.5|  100.0|    0.0|  100.0|    0.0|POLYGON ((2744927...|\n",
            "|190020001025A020|  -6.0|   -6.0|   -6.0|   -6.0|   -6.0|POLYGON ((2744638...|\n",
            "|190020001025A023|  42.9|  100.0|    0.0|   75.0|   -6.0|POLYGON ((2744311...|\n",
            "|190020001025A025|  54.5|  100.0|    0.0|  100.0|    0.0|POLYGON ((2744521...|\n",
            "|1900200010264010|  -8.0|   -8.0|   -8.0|   -8.0|   -8.0|POLYGON ((2744230...|\n",
            "+----------------+------+-------+-------+-------+-------+--------------------+\n",
            "only showing top 20 rows\n",
            "\n"
          ]
        }
      ]
    },
    {
      "cell_type": "code",
      "source": [
        "BD_MANZANAS_EEVVV.createOrReplaceTempView(\"manzanas\")"
      ],
      "metadata": {
        "id": "I4VEOTno0xnM"
      },
      "execution_count": 95,
      "outputs": []
    },
    {
      "cell_type": "code",
      "source": [
        "#cleaning data\n",
        "#'ECO1_R', 'VIV18_R', 'VIV24_R', 'POB1',\n",
        "\n",
        "BD_MZA_EEVVV_CORREGIDO = spark.sql(\"\"\"select \n",
        "                                  CVEGEO,\n",
        "                                  if( (isnull(ECO1_R) or ECO1_R < 0 ), 0, ECO1_R) as ECO1_R, \n",
        "                                  if( (isnull(VIV17_R) or VIV17_R < 0 ), 0, VIV17_R) as VIV17_R,\n",
        "                                  if( (isnull(VIV18_R) or VIV18_R < 0 ), 0, VIV18_R) as VIV18_R,\n",
        "                                  if( (isnull(VIV23_R) or VIV23_R < 0 ), 0, VIV23_R) as VIV23_R, \n",
        "                                  if( (isnull(VIV24_R) or VIV24_R < 0 ), 0, VIV24_R) as VIV24_R,                                 \n",
        "                                  geometry\n",
        "                             from manzanas \"\"\")\n",
        "\n",
        "BD_MZA_EEVVV_CORREGIDO.cache()\n",
        "BD_MZA_EEVVV_CORREGIDO.show()"
      ],
      "metadata": {
        "colab": {
          "base_uri": "https://localhost:8080/"
        },
        "id": "2zSm7d0N00Be",
        "outputId": "05616700-123a-444c-ee65-21e1b0481f46"
      },
      "execution_count": 96,
      "outputs": [
        {
          "output_type": "stream",
          "name": "stdout",
          "text": [
            "+----------------+------+-------+-------+-------+-------+--------------------+\n",
            "|          CVEGEO|ECO1_R|VIV17_R|VIV18_R|VIV23_R|VIV24_R|            geometry|\n",
            "+----------------+------+-------+-------+-------+-------+--------------------+\n",
            "|1900100010021001|  53.7|  100.0|    0.0|  100.0|    0.0|POLYGON ((2659352...|\n",
            "|1900100010021007|  54.5|  100.0|    0.0|  100.0|    0.0|POLYGON ((2659829...|\n",
            "|1900100010021020|   0.0|    0.0|    0.0|    0.0|    0.0|POLYGON ((2659830...|\n",
            "|1900100010021037|   0.0|    0.0|    0.0|    0.0|    0.0|POLYGON ((2659506...|\n",
            "|1900100010021047|  66.7|  100.0|    0.0|  100.0|    0.0|POLYGON ((2659550...|\n",
            "|1900100010036010|  46.2|  100.0|    0.0|  100.0|    0.0|POLYGON ((2660761...|\n",
            "|1900100010036012|  43.8|  100.0|    0.0|  100.0|    0.0|POLYGON ((2660950...|\n",
            "|1900200010207030|  50.0|  100.0|    0.0|  100.0|    0.0|POLYGON ((2744874...|\n",
            "|1900200010211013|  30.0|  100.0|    0.0|  100.0|    0.0|POLYGON ((2744393...|\n",
            "|1900200010211018|   0.0|    0.0|    0.0|    0.0|    0.0|POLYGON ((2744881...|\n",
            "|1900200010226018|   0.0|    0.0|    0.0|    0.0|    0.0|POLYGON ((2745917...|\n",
            "|1900200010230010|  83.3|  100.0|    0.0|  100.0|    0.0|POLYGON ((2744380...|\n",
            "|1900200010230012|   0.0|  100.0|    0.0|  100.0|    0.0|POLYGON ((2744575...|\n",
            "|1900200010230026|   0.0|    0.0|    0.0|    0.0|    0.0|POLYGON ((2744751...|\n",
            "|1900200010245017|  87.5|  100.0|    0.0|  100.0|    0.0|POLYGON ((2745022...|\n",
            "|190020001025A010|  62.5|  100.0|    0.0|  100.0|    0.0|POLYGON ((2744927...|\n",
            "|190020001025A020|   0.0|    0.0|    0.0|    0.0|    0.0|POLYGON ((2744638...|\n",
            "|190020001025A023|  42.9|  100.0|    0.0|   75.0|    0.0|POLYGON ((2744311...|\n",
            "|190020001025A025|  54.5|  100.0|    0.0|  100.0|    0.0|POLYGON ((2744521...|\n",
            "|1900200010264010|   0.0|    0.0|    0.0|    0.0|    0.0|POLYGON ((2744230...|\n",
            "+----------------+------+-------+-------+-------+-------+--------------------+\n",
            "only showing top 20 rows\n",
            "\n"
          ]
        }
      ]
    },
    {
      "cell_type": "code",
      "source": [
        "#getting data to csv \n",
        "df1=BD_MZA_EEVVV_CORREGIDO.toPandas() "
      ],
      "metadata": {
        "id": "UrAz5v9LJXiw"
      },
      "execution_count": 97,
      "outputs": []
    },
    {
      "cell_type": "code",
      "source": [
        "df1.to_csv('rawData.csv')\n"
      ],
      "metadata": {
        "id": "CXIUZLo9NXd3"
      },
      "execution_count": 57,
      "outputs": []
    },
    {
      "cell_type": "code",
      "source": [
        "from pyspark.ml.feature import VectorAssembler\n",
        "from pyspark.ml.clustering import KMeans\n",
        "\n",
        "vecAssembler = VectorAssembler(inputCols=['ECO1_R', 'VIV17_R', 'VIV18_R', 'VIV23_R', 'VIV24_R'], outputCol=\"features\")\n",
        "BD_MZA_EEVVV_CORREGIDO_VEC = vecAssembler.transform(BD_MZA_EEVVV_CORREGIDO)\n",
        "BD_MZA_EEVVV_CORREGIDO_VEC.cache()\n",
        "BD_MZA_EEVVV_CORREGIDO_VEC.show()"
      ],
      "metadata": {
        "colab": {
          "base_uri": "https://localhost:8080/"
        },
        "id": "bz8hIXNW1F1c",
        "outputId": "9f4e218a-791d-43f7-b153-f4a62b244e1a"
      },
      "execution_count": 98,
      "outputs": [
        {
          "output_type": "stream",
          "name": "stdout",
          "text": [
            "+----------------+------+-------+-------+-------+-------+--------------------+--------------------+\n",
            "|          CVEGEO|ECO1_R|VIV17_R|VIV18_R|VIV23_R|VIV24_R|            geometry|            features|\n",
            "+----------------+------+-------+-------+-------+-------+--------------------+--------------------+\n",
            "|1900100010021001|  53.7|  100.0|    0.0|  100.0|    0.0|POLYGON ((2659352...|[53.7,100.0,0.0,1...|\n",
            "|1900100010021007|  54.5|  100.0|    0.0|  100.0|    0.0|POLYGON ((2659829...|[54.5,100.0,0.0,1...|\n",
            "|1900100010021020|   0.0|    0.0|    0.0|    0.0|    0.0|POLYGON ((2659830...|           (5,[],[])|\n",
            "|1900100010021037|   0.0|    0.0|    0.0|    0.0|    0.0|POLYGON ((2659506...|           (5,[],[])|\n",
            "|1900100010021047|  66.7|  100.0|    0.0|  100.0|    0.0|POLYGON ((2659550...|[66.7,100.0,0.0,1...|\n",
            "|1900100010036010|  46.2|  100.0|    0.0|  100.0|    0.0|POLYGON ((2660761...|[46.2,100.0,0.0,1...|\n",
            "|1900100010036012|  43.8|  100.0|    0.0|  100.0|    0.0|POLYGON ((2660950...|[43.8,100.0,0.0,1...|\n",
            "|1900200010207030|  50.0|  100.0|    0.0|  100.0|    0.0|POLYGON ((2744874...|[50.0,100.0,0.0,1...|\n",
            "|1900200010211013|  30.0|  100.0|    0.0|  100.0|    0.0|POLYGON ((2744393...|[30.0,100.0,0.0,1...|\n",
            "|1900200010211018|   0.0|    0.0|    0.0|    0.0|    0.0|POLYGON ((2744881...|           (5,[],[])|\n",
            "|1900200010226018|   0.0|    0.0|    0.0|    0.0|    0.0|POLYGON ((2745917...|           (5,[],[])|\n",
            "|1900200010230010|  83.3|  100.0|    0.0|  100.0|    0.0|POLYGON ((2744380...|[83.3,100.0,0.0,1...|\n",
            "|1900200010230012|   0.0|  100.0|    0.0|  100.0|    0.0|POLYGON ((2744575...|(5,[1,3],[100.0,1...|\n",
            "|1900200010230026|   0.0|    0.0|    0.0|    0.0|    0.0|POLYGON ((2744751...|           (5,[],[])|\n",
            "|1900200010245017|  87.5|  100.0|    0.0|  100.0|    0.0|POLYGON ((2745022...|[87.5,100.0,0.0,1...|\n",
            "|190020001025A010|  62.5|  100.0|    0.0|  100.0|    0.0|POLYGON ((2744927...|[62.5,100.0,0.0,1...|\n",
            "|190020001025A020|   0.0|    0.0|    0.0|    0.0|    0.0|POLYGON ((2744638...|           (5,[],[])|\n",
            "|190020001025A023|  42.9|  100.0|    0.0|   75.0|    0.0|POLYGON ((2744311...|[42.9,100.0,0.0,7...|\n",
            "|190020001025A025|  54.5|  100.0|    0.0|  100.0|    0.0|POLYGON ((2744521...|[54.5,100.0,0.0,1...|\n",
            "|1900200010264010|   0.0|    0.0|    0.0|    0.0|    0.0|POLYGON ((2744230...|           (5,[],[])|\n",
            "+----------------+------+-------+-------+-------+-------+--------------------+--------------------+\n",
            "only showing top 20 rows\n",
            "\n"
          ]
        }
      ]
    },
    {
      "cell_type": "code",
      "source": [
        "kmeans = KMeans(k=5, seed=1, maxIter=250) \n",
        "model = kmeans.fit(BD_MZA_EEVVV_CORREGIDO_VEC.select('features'))\n",
        "transformed = model.transform(BD_MZA_EEVVV_CORREGIDO_VEC)\n",
        "transformed.show()"
      ],
      "metadata": {
        "colab": {
          "base_uri": "https://localhost:8080/"
        },
        "id": "q9WcmAUL1PIJ",
        "outputId": "55794a86-adcd-4ee2-d264-29d40aae1ccc"
      },
      "execution_count": 99,
      "outputs": [
        {
          "output_type": "stream",
          "name": "stdout",
          "text": [
            "+----------------+------+-------+-------+-------+-------+--------------------+--------------------+----------+\n",
            "|          CVEGEO|ECO1_R|VIV17_R|VIV18_R|VIV23_R|VIV24_R|            geometry|            features|prediction|\n",
            "+----------------+------+-------+-------+-------+-------+--------------------+--------------------+----------+\n",
            "|1900100010021001|  53.7|  100.0|    0.0|  100.0|    0.0|POLYGON ((2659352...|[53.7,100.0,0.0,1...|         1|\n",
            "|1900100010021007|  54.5|  100.0|    0.0|  100.0|    0.0|POLYGON ((2659829...|[54.5,100.0,0.0,1...|         1|\n",
            "|1900100010021020|   0.0|    0.0|    0.0|    0.0|    0.0|POLYGON ((2659830...|           (5,[],[])|         0|\n",
            "|1900100010021037|   0.0|    0.0|    0.0|    0.0|    0.0|POLYGON ((2659506...|           (5,[],[])|         0|\n",
            "|1900100010021047|  66.7|  100.0|    0.0|  100.0|    0.0|POLYGON ((2659550...|[66.7,100.0,0.0,1...|         2|\n",
            "|1900100010036010|  46.2|  100.0|    0.0|  100.0|    0.0|POLYGON ((2660761...|[46.2,100.0,0.0,1...|         3|\n",
            "|1900100010036012|  43.8|  100.0|    0.0|  100.0|    0.0|POLYGON ((2660950...|[43.8,100.0,0.0,1...|         3|\n",
            "|1900200010207030|  50.0|  100.0|    0.0|  100.0|    0.0|POLYGON ((2744874...|[50.0,100.0,0.0,1...|         1|\n",
            "|1900200010211013|  30.0|  100.0|    0.0|  100.0|    0.0|POLYGON ((2744393...|[30.0,100.0,0.0,1...|         3|\n",
            "|1900200010211018|   0.0|    0.0|    0.0|    0.0|    0.0|POLYGON ((2744881...|           (5,[],[])|         0|\n",
            "|1900200010226018|   0.0|    0.0|    0.0|    0.0|    0.0|POLYGON ((2745917...|           (5,[],[])|         0|\n",
            "|1900200010230010|  83.3|  100.0|    0.0|  100.0|    0.0|POLYGON ((2744380...|[83.3,100.0,0.0,1...|         2|\n",
            "|1900200010230012|   0.0|  100.0|    0.0|  100.0|    0.0|POLYGON ((2744575...|(5,[1,3],[100.0,1...|         3|\n",
            "|1900200010230026|   0.0|    0.0|    0.0|    0.0|    0.0|POLYGON ((2744751...|           (5,[],[])|         0|\n",
            "|1900200010245017|  87.5|  100.0|    0.0|  100.0|    0.0|POLYGON ((2745022...|[87.5,100.0,0.0,1...|         2|\n",
            "|190020001025A010|  62.5|  100.0|    0.0|  100.0|    0.0|POLYGON ((2744927...|[62.5,100.0,0.0,1...|         1|\n",
            "|190020001025A020|   0.0|    0.0|    0.0|    0.0|    0.0|POLYGON ((2744638...|           (5,[],[])|         0|\n",
            "|190020001025A023|  42.9|  100.0|    0.0|   75.0|    0.0|POLYGON ((2744311...|[42.9,100.0,0.0,7...|         3|\n",
            "|190020001025A025|  54.5|  100.0|    0.0|  100.0|    0.0|POLYGON ((2744521...|[54.5,100.0,0.0,1...|         1|\n",
            "|1900200010264010|   0.0|    0.0|    0.0|    0.0|    0.0|POLYGON ((2744230...|           (5,[],[])|         0|\n",
            "+----------------+------+-------+-------+-------+-------+--------------------+--------------------+----------+\n",
            "only showing top 20 rows\n",
            "\n"
          ]
        }
      ]
    },
    {
      "cell_type": "code",
      "source": [
        "#'ECO1_R', 'VIV18_R', 'VIV24_R', 'POB1',\n",
        "\n",
        "transformed.createOrReplaceTempView(\"result_kmeans\")\n",
        "clusters = spark.sql(\"\"\" select prediction, \n",
        "    mean(ECO1_R) as mean_econ_activa, \n",
        "    mean(VIV17_R) as mean_con_agua,\n",
        "    mean(VIV18_R) as mean_sin_agua,\n",
        "    mean(VIV23_R) as mean_con_drenaje,\n",
        "    mean(VIV24_R) as mean_sin_drenaje,\n",
        "    count(*) as conteo\n",
        "from result_kmeans group by prediction order by mean_econ_activa\"\"\")\n",
        "\n",
        "clusters.show()"
      ],
      "metadata": {
        "colab": {
          "base_uri": "https://localhost:8080/"
        },
        "id": "jYEvrVOO1V9Z",
        "outputId": "5ea55d7b-b89a-43c2-e66a-2cd41c2a231b"
      },
      "execution_count": 114,
      "outputs": [
        {
          "output_type": "stream",
          "name": "stdout",
          "text": [
            "+----------+-------------------+--------------------+--------------------+--------------------+--------------------+------+\n",
            "|prediction|   mean_econ_activa|       mean_con_agua|       mean_sin_agua|    mean_con_drenaje|    mean_sin_drenaje|conteo|\n",
            "+----------+-------------------+--------------------+--------------------+--------------------+--------------------+------+\n",
            "|         0|0.16454405540592534|9.170193664229832E-4|0.006412722842118764|9.170193664229832E-4|0.012825445684237527| 15594|\n",
            "|         3|  39.78764637755735|    99.5976450907219|0.009007849697593617|   99.35166645219405| 0.06649079912495175|  7771|\n",
            "|         1| 58.410678624813144|   99.68998505231683|0.041348281016442445|   99.62499850523155|0.059605381165919284| 33450|\n",
            "|         4| 60.403837471783284|    44.2823927765237|  22.475846501128675|   50.55440180586909|  11.824379232505645|   443|\n",
            "|         2|  73.30284237726063|   99.71413588691293|0.024760601915184678|   99.67099356538485| 0.03591224603536505| 19737|\n",
            "+----------+-------------------+--------------------+--------------------+--------------------+--------------------+------+\n",
            "\n"
          ]
        }
      ]
    },
    {
      "cell_type": "code",
      "source": [
        "df_clusters = clusters.toPandas()"
      ],
      "metadata": {
        "id": "210wXPoo1n-J"
      },
      "execution_count": 115,
      "outputs": []
    },
    {
      "cell_type": "code",
      "source": [
        "df_clusters"
      ],
      "metadata": {
        "colab": {
          "base_uri": "https://localhost:8080/",
          "height": 206
        },
        "id": "kBPlAtL-1q85",
        "outputId": "8a2e2068-1778-4d68-ae48-694e2e42bd2b"
      },
      "execution_count": 116,
      "outputs": [
        {
          "output_type": "execute_result",
          "data": {
            "text/plain": [
              "   prediction  mean_econ_activa  mean_con_agua  mean_sin_agua  \\\n",
              "0           0          0.164544       0.000917       0.006413   \n",
              "1           3         39.787646      99.597645       0.009008   \n",
              "2           1         58.410679      99.689985       0.041348   \n",
              "3           4         60.403837      44.282393      22.475847   \n",
              "4           2         73.302842      99.714136       0.024761   \n",
              "\n",
              "   mean_con_drenaje  mean_sin_drenaje  conteo  \n",
              "0          0.000917          0.012825   15594  \n",
              "1         99.351666          0.066491    7771  \n",
              "2         99.624999          0.059605   33450  \n",
              "3         50.554402         11.824379     443  \n",
              "4         99.670994          0.035912   19737  "
            ],
            "text/html": [
              "\n",
              "  <div id=\"df-a0b2b86e-a33e-4422-9f5c-a400d592a574\">\n",
              "    <div class=\"colab-df-container\">\n",
              "      <div>\n",
              "<style scoped>\n",
              "    .dataframe tbody tr th:only-of-type {\n",
              "        vertical-align: middle;\n",
              "    }\n",
              "\n",
              "    .dataframe tbody tr th {\n",
              "        vertical-align: top;\n",
              "    }\n",
              "\n",
              "    .dataframe thead th {\n",
              "        text-align: right;\n",
              "    }\n",
              "</style>\n",
              "<table border=\"1\" class=\"dataframe\">\n",
              "  <thead>\n",
              "    <tr style=\"text-align: right;\">\n",
              "      <th></th>\n",
              "      <th>prediction</th>\n",
              "      <th>mean_econ_activa</th>\n",
              "      <th>mean_con_agua</th>\n",
              "      <th>mean_sin_agua</th>\n",
              "      <th>mean_con_drenaje</th>\n",
              "      <th>mean_sin_drenaje</th>\n",
              "      <th>conteo</th>\n",
              "    </tr>\n",
              "  </thead>\n",
              "  <tbody>\n",
              "    <tr>\n",
              "      <th>0</th>\n",
              "      <td>0</td>\n",
              "      <td>0.164544</td>\n",
              "      <td>0.000917</td>\n",
              "      <td>0.006413</td>\n",
              "      <td>0.000917</td>\n",
              "      <td>0.012825</td>\n",
              "      <td>15594</td>\n",
              "    </tr>\n",
              "    <tr>\n",
              "      <th>1</th>\n",
              "      <td>3</td>\n",
              "      <td>39.787646</td>\n",
              "      <td>99.597645</td>\n",
              "      <td>0.009008</td>\n",
              "      <td>99.351666</td>\n",
              "      <td>0.066491</td>\n",
              "      <td>7771</td>\n",
              "    </tr>\n",
              "    <tr>\n",
              "      <th>2</th>\n",
              "      <td>1</td>\n",
              "      <td>58.410679</td>\n",
              "      <td>99.689985</td>\n",
              "      <td>0.041348</td>\n",
              "      <td>99.624999</td>\n",
              "      <td>0.059605</td>\n",
              "      <td>33450</td>\n",
              "    </tr>\n",
              "    <tr>\n",
              "      <th>3</th>\n",
              "      <td>4</td>\n",
              "      <td>60.403837</td>\n",
              "      <td>44.282393</td>\n",
              "      <td>22.475847</td>\n",
              "      <td>50.554402</td>\n",
              "      <td>11.824379</td>\n",
              "      <td>443</td>\n",
              "    </tr>\n",
              "    <tr>\n",
              "      <th>4</th>\n",
              "      <td>2</td>\n",
              "      <td>73.302842</td>\n",
              "      <td>99.714136</td>\n",
              "      <td>0.024761</td>\n",
              "      <td>99.670994</td>\n",
              "      <td>0.035912</td>\n",
              "      <td>19737</td>\n",
              "    </tr>\n",
              "  </tbody>\n",
              "</table>\n",
              "</div>\n",
              "      <button class=\"colab-df-convert\" onclick=\"convertToInteractive('df-a0b2b86e-a33e-4422-9f5c-a400d592a574')\"\n",
              "              title=\"Convert this dataframe to an interactive table.\"\n",
              "              style=\"display:none;\">\n",
              "        \n",
              "  <svg xmlns=\"http://www.w3.org/2000/svg\" height=\"24px\"viewBox=\"0 0 24 24\"\n",
              "       width=\"24px\">\n",
              "    <path d=\"M0 0h24v24H0V0z\" fill=\"none\"/>\n",
              "    <path d=\"M18.56 5.44l.94 2.06.94-2.06 2.06-.94-2.06-.94-.94-2.06-.94 2.06-2.06.94zm-11 1L8.5 8.5l.94-2.06 2.06-.94-2.06-.94L8.5 2.5l-.94 2.06-2.06.94zm10 10l.94 2.06.94-2.06 2.06-.94-2.06-.94-.94-2.06-.94 2.06-2.06.94z\"/><path d=\"M17.41 7.96l-1.37-1.37c-.4-.4-.92-.59-1.43-.59-.52 0-1.04.2-1.43.59L10.3 9.45l-7.72 7.72c-.78.78-.78 2.05 0 2.83L4 21.41c.39.39.9.59 1.41.59.51 0 1.02-.2 1.41-.59l7.78-7.78 2.81-2.81c.8-.78.8-2.07 0-2.86zM5.41 20L4 18.59l7.72-7.72 1.47 1.35L5.41 20z\"/>\n",
              "  </svg>\n",
              "      </button>\n",
              "      \n",
              "  <style>\n",
              "    .colab-df-container {\n",
              "      display:flex;\n",
              "      flex-wrap:wrap;\n",
              "      gap: 12px;\n",
              "    }\n",
              "\n",
              "    .colab-df-convert {\n",
              "      background-color: #E8F0FE;\n",
              "      border: none;\n",
              "      border-radius: 50%;\n",
              "      cursor: pointer;\n",
              "      display: none;\n",
              "      fill: #1967D2;\n",
              "      height: 32px;\n",
              "      padding: 0 0 0 0;\n",
              "      width: 32px;\n",
              "    }\n",
              "\n",
              "    .colab-df-convert:hover {\n",
              "      background-color: #E2EBFA;\n",
              "      box-shadow: 0px 1px 2px rgba(60, 64, 67, 0.3), 0px 1px 3px 1px rgba(60, 64, 67, 0.15);\n",
              "      fill: #174EA6;\n",
              "    }\n",
              "\n",
              "    [theme=dark] .colab-df-convert {\n",
              "      background-color: #3B4455;\n",
              "      fill: #D2E3FC;\n",
              "    }\n",
              "\n",
              "    [theme=dark] .colab-df-convert:hover {\n",
              "      background-color: #434B5C;\n",
              "      box-shadow: 0px 1px 3px 1px rgba(0, 0, 0, 0.15);\n",
              "      filter: drop-shadow(0px 1px 2px rgba(0, 0, 0, 0.3));\n",
              "      fill: #FFFFFF;\n",
              "    }\n",
              "  </style>\n",
              "\n",
              "      <script>\n",
              "        const buttonEl =\n",
              "          document.querySelector('#df-a0b2b86e-a33e-4422-9f5c-a400d592a574 button.colab-df-convert');\n",
              "        buttonEl.style.display =\n",
              "          google.colab.kernel.accessAllowed ? 'block' : 'none';\n",
              "\n",
              "        async function convertToInteractive(key) {\n",
              "          const element = document.querySelector('#df-a0b2b86e-a33e-4422-9f5c-a400d592a574');\n",
              "          const dataTable =\n",
              "            await google.colab.kernel.invokeFunction('convertToInteractive',\n",
              "                                                     [key], {});\n",
              "          if (!dataTable) return;\n",
              "\n",
              "          const docLinkHtml = 'Like what you see? Visit the ' +\n",
              "            '<a target=\"_blank\" href=https://colab.research.google.com/notebooks/data_table.ipynb>data table notebook</a>'\n",
              "            + ' to learn more about interactive tables.';\n",
              "          element.innerHTML = '';\n",
              "          dataTable['output_type'] = 'display_data';\n",
              "          await google.colab.output.renderOutput(dataTable, element);\n",
              "          const docLink = document.createElement('div');\n",
              "          docLink.innerHTML = docLinkHtml;\n",
              "          element.appendChild(docLink);\n",
              "        }\n",
              "      </script>\n",
              "    </div>\n",
              "  </div>\n",
              "  "
            ]
          },
          "metadata": {},
          "execution_count": 116
        }
      ]
    },
    {
      "cell_type": "code",
      "source": [
        "import numpy as np\n",
        "import matplotlib.pyplot as plt"
      ],
      "metadata": {
        "id": "f6-AJn0e1r_D"
      },
      "execution_count": 117,
      "outputs": []
    },
    {
      "cell_type": "code",
      "source": [
        "categories = df_clusters.columns[1:-1].values\n",
        "cluster_0 = df_clusters.where(df_clusters.prediction==0).dropna().values[0][1:-1]\n",
        "cluster_1 = df_clusters.where(df_clusters.prediction==1).dropna().values[0][1:-1]\n",
        "cluster_2 = df_clusters.where(df_clusters.prediction==2).dropna().values[0][1:-1]\n",
        "cluster_3 = df_clusters.where(df_clusters.prediction==3).dropna().values[0][1:-1]\n",
        "\n",
        "\n",
        "\n",
        "cluster_0 = [*cluster_0,cluster_0[0]]\n",
        "cluster_1 = [*cluster_1,cluster_1[0]]\n",
        "cluster_2 = [*cluster_2,cluster_2[0]]\n",
        "cluster_3 = [*cluster_3,cluster_3[0]]\n",
        "\n",
        "\n",
        "\n",
        "label_loc = np.linspace(start=0, stop=2 * np.pi, num=len(cluster_0))\n",
        "\n",
        "plt.figure(figsize=(10, 10))\n",
        "plt.subplot(polar=True)\n",
        "plt.plot(label_loc, cluster_0, label='Cluster 0')\n",
        "plt.plot(label_loc, cluster_1, label='Cluster 1')\n",
        "plt.plot(label_loc, cluster_2, label='Cluster 2')\n",
        "plt.plot(label_loc, cluster_3, label='Cluster 3')\n",
        "\n",
        "plt.title('Comparacion de clusters', size=20)\n",
        "lines, labels = plt.thetagrids(np.degrees(label_loc), labels=categories)\n",
        "plt.legend()\n",
        "plt.show()"
      ],
      "metadata": {
        "colab": {
          "base_uri": "https://localhost:8080/",
          "height": 628
        },
        "id": "dqfuxXGW2KYn",
        "outputId": "38720873-2312-4744-8b0e-a42a346c8b6a"
      },
      "execution_count": 118,
      "outputs": [
        {
          "output_type": "display_data",
          "data": {
            "text/plain": [
              "<Figure size 720x720 with 1 Axes>"
            ],
            "image/png": "[encoded data removed]"
          },
          "metadata": {
            "needs_background": "light"
          }
        }
      ]
    },
    {
      "cell_type": "code",
      "source": [
        "#'ECO1_R', 'VIV18_R', 'VIV24_R', 'POB1',\n",
        "df_manzanas = spark.sql(\"\"\"select ECO1_R as eco_act,\n",
        "                                  VIV17_R as con_agua,\n",
        "                                  VIV18_R as sin_agua,\n",
        "                                  VIV23_R as con_drenaje,\n",
        "                                  VIV24_R as sin_drenaje,\n",
        "                                  geometry,\n",
        "                                  prediction \n",
        "                           from result_kmeans\"\"\").toPandas()\n",
        "geopandas_df_grid = gpd.GeoDataFrame(df_manzanas, geometry=\"geometry\")\n",
        "geopandas_df_grid = geopandas_df_grid.set_crs('PROJCS[\"Mexico_ITRF2008_LCC\",GEOGCS[\"Mexico_ITRF2008\",DATUM[\"Mexico_ITRF2008\",SPHEROID[\"GRS_1980\",6378137,298.257222101],TOWGS84[0,0,0,0,0,0,0]],PRIMEM[\"Greenwich\",0],UNIT[\"Degree\",0.0174532925199433]],PROJECTION[\"Lambert_Conformal_Conic_2SP\",AUTHORITY[\"EPSG\",\"9802\"]],PARAMETER[\"Central_Meridian\",-102],PARAMETER[\"Latitude_Of_Origin\",12],PARAMETER[\"False_Easting\",2500000],PARAMETER[\"False_Northing\",0],PARAMETER[\"Standard_Parallel_1\",17.5],PARAMETER[\"Standard_Parallel_2\",29.5],PARAMETER[\"Scale_Factor\",1],UNIT[\"Meter\",1,AUTHORITY[\"EPSG\",\"9001\"]],AUTHORITY[\"EPSG\",\"6372\"]]')\n",
        "geopandas_df_grid = geopandas_df_grid.to_crs(\"EPSG:4326\")"
      ],
      "metadata": {
        "id": "nMd2tKlg2Sxj"
      },
      "execution_count": 109,
      "outputs": []
    },
    {
      "cell_type": "code",
      "source": [
        "import folium"
      ],
      "metadata": {
        "id": "S4coKVSv2gKA"
      },
      "execution_count": 110,
      "outputs": []
    },
    {
      "cell_type": "code",
      "source": [
        "def rank_colormap(gdf):\n",
        "  if gdf['properties']['prediction'] is 4:\n",
        "    return 'green'\n",
        "  if gdf['properties']['prediction'] is 3 or 0:\n",
        "    return 'yellow'\n",
        "  if gdf['properties']['prediction'] is 1 or 2:\n",
        "    return 'red'"
      ],
      "metadata": {
        "id": "Any8ISNg2iNm"
      },
      "execution_count": 111,
      "outputs": []
    },
    {
      "cell_type": "code",
      "source": [
        "m = folium.Map(location=[21.8852562,-102.2915677], zoom_start=14)\n",
        "\n",
        "folium.GeoJson(data = geopandas_df_grid, name=\"Estratos\",style_function = lambda feature: {\n",
        "   'fillColor': rank_colormap(feature),\n",
        "   'color': rank_colormap(feature),\n",
        "   'weight': '0.5',\n",
        "   'fill': True,\n",
        "   'fill_opacity': '1'\n",
        "}).add_to(m)"
      ],
      "metadata": {
        "colab": {
          "base_uri": "https://localhost:8080/"
        },
        "id": "Aespxluj2j82",
        "outputId": "63037215-c8aa-4523-e870-3bc8e7dc3bc4"
      },
      "execution_count": 112,
      "outputs": [
        {
          "output_type": "execute_result",
          "data": {
            "text/plain": [
              "<folium.features.GeoJson at 0x7f379388ff90>"
            ]
          },
          "metadata": {},
          "execution_count": 112
        }
      ]
    },
    {
      "cell_type": "code",
      "source": [
        "# Despliegue del Mapa\n",
        "m"
      ],
      "metadata": {
        "id": "pfAwzHVJ2nmA"
      },
      "execution_count": 113,
      "outputs": []
    }
  ]
}